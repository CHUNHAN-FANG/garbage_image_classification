{
 "cells": [
  {
   "cell_type": "markdown",
   "metadata": {},
   "source": [
    "## 图像识别-生活垃圾分类\n",
    "### 浅层CNN"
   ]
  },
  {
   "cell_type": "code",
   "execution_count": 1,
   "metadata": {},
   "outputs": [
    {
     "name": "stderr",
     "output_type": "stream",
     "text": [
      "Using TensorFlow backend.\n"
     ]
    }
   ],
   "source": [
    "import numpy as np\n",
    "import pandas as pd\n",
    "import matplotlib.pyplot as plt\n",
    "\n",
    "from sklearn.model_selection import train_test_split\n",
    "from sklearn.preprocessing import LabelEncoder\n",
    "from sklearn.preprocessing import OneHotEncoder\n",
    "import itertools\n",
    "\n",
    "import keras\n",
    "from keras.layers import Conv2D, Flatten, Dense, MaxPool2D,MaxPooling2D\n",
    "from keras.layers import Activation, Dropout, BatchNormalization, Input\n",
    "from keras.models import Sequential, Model\n",
    "\n",
    "from keras.utils import np_utils, to_categorical\n",
    "from keras.callbacks import EarlyStopping, ModelCheckpoint\n",
    "\n",
    "plt.style.use('ggplot')\n",
    "plt.switch_backend('agg')"
   ]
  },
  {
   "cell_type": "markdown",
   "metadata": {},
   "source": [
    "### 1 图像数据预处理\n",
    "加载完成处理的数据集"
   ]
  },
  {
   "cell_type": "code",
   "execution_count": 2,
   "metadata": {},
   "outputs": [
    {
     "name": "stdout",
     "output_type": "stream",
     "text": [
      "(22002, 192, 192, 3)\n",
      "(9430, 192, 192, 3)\n"
     ]
    }
   ],
   "source": [
    "#加载处理好的数据与标签\n",
    "Xtrain = np.load('encoded/X_train_C_192.npy')\n",
    "Xvalid = np.load('encoded/X_valid_C_192.npy')\n",
    "Ytrain = np.load('encoded/Y_train_C_192.npy')\n",
    "Yvalid = np.load('encoded/Y_valid_C_192.npy')\n",
    "print(Xtrain.shape)\n",
    "print(Xvalid.shape)"
   ]
  },
  {
   "cell_type": "markdown",
   "metadata": {},
   "source": [
    "### 2 模型搭建"
   ]
  },
  {
   "cell_type": "code",
   "execution_count": 3,
   "metadata": {},
   "outputs": [
    {
     "name": "stderr",
     "output_type": "stream",
     "text": [
      "WARNING: Logging before flag parsing goes to stderr.\n",
      "W0213 15:24:56.181094   484 deprecation_wrapper.py:119] From D:\\Anaconda\\lib\\site-packages\\keras\\backend\\tensorflow_backend.py:74: The name tf.get_default_graph is deprecated. Please use tf.compat.v1.get_default_graph instead.\n",
      "\n",
      "W0213 15:24:56.288099   484 deprecation_wrapper.py:119] From D:\\Anaconda\\lib\\site-packages\\keras\\backend\\tensorflow_backend.py:517: The name tf.placeholder is deprecated. Please use tf.compat.v1.placeholder instead.\n",
      "\n",
      "W0213 15:24:56.317102   484 deprecation_wrapper.py:119] From D:\\Anaconda\\lib\\site-packages\\keras\\backend\\tensorflow_backend.py:4138: The name tf.random_uniform is deprecated. Please use tf.random.uniform instead.\n",
      "\n",
      "W0213 15:24:56.393108   484 deprecation_wrapper.py:119] From D:\\Anaconda\\lib\\site-packages\\keras\\backend\\tensorflow_backend.py:3976: The name tf.nn.max_pool is deprecated. Please use tf.nn.max_pool2d instead.\n",
      "\n",
      "W0213 15:24:56.398111   484 deprecation_wrapper.py:119] From D:\\Anaconda\\lib\\site-packages\\keras\\backend\\tensorflow_backend.py:133: The name tf.placeholder_with_default is deprecated. Please use tf.compat.v1.placeholder_with_default instead.\n",
      "\n",
      "W0213 15:24:56.414110   484 deprecation.py:506] From D:\\Anaconda\\lib\\site-packages\\keras\\backend\\tensorflow_backend.py:3445: calling dropout (from tensorflow.python.ops.nn_ops) with keep_prob is deprecated and will be removed in a future version.\n",
      "Instructions for updating:\n",
      "Please use `rate` instead of `keep_prob`. Rate should be set to `rate = 1 - keep_prob`.\n"
     ]
    },
    {
     "name": "stdout",
     "output_type": "stream",
     "text": [
      "_________________________________________________________________\n",
      "Layer (type)                 Output Shape              Param #   \n",
      "=================================================================\n",
      "conv2d_1 (Conv2D)            (None, 192, 192, 32)      896       \n",
      "_________________________________________________________________\n",
      "conv2d_2 (Conv2D)            (None, 190, 190, 32)      9248      \n",
      "_________________________________________________________________\n",
      "max_pooling2d_1 (MaxPooling2 (None, 63, 63, 32)        0         \n",
      "_________________________________________________________________\n",
      "dropout_1 (Dropout)          (None, 63, 63, 32)        0         \n",
      "_________________________________________________________________\n",
      "conv2d_3 (Conv2D)            (None, 63, 63, 64)        18496     \n",
      "_________________________________________________________________\n",
      "conv2d_4 (Conv2D)            (None, 61, 61, 64)        36928     \n",
      "_________________________________________________________________\n",
      "max_pooling2d_2 (MaxPooling2 (None, 20, 20, 64)        0         \n",
      "_________________________________________________________________\n",
      "dropout_2 (Dropout)          (None, 20, 20, 64)        0         \n"
     ]
    },
    {
     "name": "stderr",
     "output_type": "stream",
     "text": [
      "W0213 15:24:56.809138   484 deprecation_wrapper.py:119] From D:\\Anaconda\\lib\\site-packages\\keras\\optimizers.py:790: The name tf.train.Optimizer is deprecated. Please use tf.compat.v1.train.Optimizer instead.\n",
      "\n",
      "W0213 15:24:56.847143   484 deprecation_wrapper.py:119] From D:\\Anaconda\\lib\\site-packages\\keras\\backend\\tensorflow_backend.py:3295: The name tf.log is deprecated. Please use tf.math.log instead.\n",
      "\n"
     ]
    },
    {
     "name": "stdout",
     "output_type": "stream",
     "text": [
      "_________________________________________________________________\n",
      "conv2d_5 (Conv2D)            (None, 20, 20, 128)       73856     \n",
      "_________________________________________________________________\n",
      "conv2d_6 (Conv2D)            (None, 18, 18, 128)       147584    \n",
      "_________________________________________________________________\n",
      "max_pooling2d_3 (MaxPooling2 (None, 6, 6, 128)         0         \n",
      "_________________________________________________________________\n",
      "dropout_3 (Dropout)          (None, 6, 6, 128)         0         \n",
      "_________________________________________________________________\n",
      "flatten_1 (Flatten)          (None, 4608)              0         \n",
      "_________________________________________________________________\n",
      "dropout_4 (Dropout)          (None, 4608)              0         \n",
      "_________________________________________________________________\n",
      "dense_1 (Dense)              (None, 16)                73744     \n",
      "=================================================================\n",
      "Total params: 360,752\n",
      "Trainable params: 360,752\n",
      "Non-trainable params: 0\n",
      "_________________________________________________________________\n"
     ]
    }
   ],
   "source": [
    "# 搭建cnn模型\n",
    "batch_size = 100\n",
    "num_classes = 16\n",
    "epochs = 120\n",
    "\n",
    "model = Sequential()\n",
    "model.add(Conv2D(32, kernel_size=(3, 3), activation= 'relu',input_shape=Xtrain.shape[1:],padding= 'same')) ##input_shape=Xtrain.shape[1:]-->读取128*128尺寸图像\n",
    "model.add(Conv2D(32, kernel_size=(3, 3), activation= 'relu'))\n",
    "model.add(MaxPooling2D(pool_size=(3,3))) #减少模型参数数量, 滑动一个 3*3的滤波器, 从这个滤波器的 4 个值中取最大值.\n",
    "model.add(Dropout(0.3))   # Dropout 训练和预测时随机减少特征个数，即去掉输入数据中的某些维度，用于防止过拟合\n",
    "\n",
    "model.add(Conv2D(64, kernel_size=(3, 3), activation= 'relu', padding='same'))\n",
    "model.add(Conv2D(64, kernel_size=(3, 3), activation= 'relu'))\n",
    "model.add(MaxPooling2D(pool_size=(3,3)))\n",
    "model.add(Dropout(0.25))\n",
    "\n",
    "model.add(Conv2D(128, kernel_size=(3, 3), activation= 'relu', padding='same'))\n",
    "model.add(Conv2D(128, kernel_size=(3, 3), activation= 'relu'))\n",
    "model.add(MaxPooling2D(pool_size=(3,3)))\n",
    "model.add(Dropout(0.25))\n",
    "\n",
    "model.add(Flatten())  #卷积层的权重在传递给全连接Dense层之前, 必须压平 (维度为 1).\n",
    "model.add(Dropout(0.5))\n",
    "model.add(Dense(num_classes, activation='softmax'))   #全连接层，用softmax激活函数\n",
    "\n",
    "model.summary()\n",
    "\n",
    "model.compile(loss='categorical_crossentropy', optimizer='adam', metrics=['accuracy']) #损失函数、优化函数、评价指标"
   ]
  },
  {
   "cell_type": "markdown",
   "metadata": {},
   "source": [
    "### 3 模型训练"
   ]
  },
  {
   "cell_type": "code",
   "execution_count": 5,
   "metadata": {
    "scrolled": false
   },
   "outputs": [
    {
     "name": "stderr",
     "output_type": "stream",
     "text": [
      "W0904 17:16:49.157478  9932 deprecation.py:323] From D:\\Anaconda\\envs\\tensorflow\\Lib\\site-packages\\tensorflow\\python\\ops\\math_grad.py:1250: add_dispatch_support.<locals>.wrapper (from tensorflow.python.ops.array_ops) is deprecated and will be removed in a future version.\n",
      "Instructions for updating:\n",
      "Use tf.where in 2.0, which has the same broadcast rule as np.where\n"
     ]
    },
    {
     "name": "stdout",
     "output_type": "stream",
     "text": [
      "Train on 22001 samples, validate on 9430 samples\n"
     ]
    },
    {
     "name": "stderr",
     "output_type": "stream",
     "text": [
      "W0904 17:16:50.196265  9932 deprecation_wrapper.py:119] From D:\\Anaconda\\lib\\site-packages\\keras\\callbacks.py:796: The name tf.summary.histogram is deprecated. Please use tf.compat.v1.summary.histogram instead.\n",
      "\n",
      "W0904 17:16:50.235053  9932 deprecation_wrapper.py:119] From D:\\Anaconda\\lib\\site-packages\\keras\\callbacks.py:850: The name tf.summary.merge_all is deprecated. Please use tf.compat.v1.summary.merge_all instead.\n",
      "\n",
      "W0904 17:16:50.239054  9932 deprecation_wrapper.py:119] From D:\\Anaconda\\lib\\site-packages\\keras\\callbacks.py:853: The name tf.summary.FileWriter is deprecated. Please use tf.compat.v1.summary.FileWriter instead.\n",
      "\n"
     ]
    },
    {
     "name": "stdout",
     "output_type": "stream",
     "text": [
      "Epoch 1/120\n",
      "22001/22001 [==============================] - 1687s 77ms/step - loss: 2.5264 - acc: 0.1656 - val_loss: 2.3358 - val_acc: 0.2498\n",
      "Epoch 2/120\n",
      "22001/22001 [==============================] - 1686s 77ms/step - loss: 2.2312 - acc: 0.2690 - val_loss: 2.1264 - val_acc: 0.3093\n",
      "Epoch 3/120\n",
      "22001/22001 [==============================] - 1744s 79ms/step - loss: 2.0595 - acc: 0.3316 - val_loss: 2.1684 - val_acc: 0.2880\n",
      "Epoch 4/120\n",
      "22001/22001 [==============================] - 1724s 78ms/step - loss: 1.9816 - acc: 0.3582 - val_loss: 1.8412 - val_acc: 0.4030\n",
      "Epoch 5/120\n",
      "22001/22001 [==============================] - 1762s 80ms/step - loss: 1.8311 - acc: 0.4018 - val_loss: 1.7914 - val_acc: 0.4169\n",
      "Epoch 6/120\n",
      "22001/22001 [==============================] - 1866s 85ms/step - loss: 1.7459 - acc: 0.4281 - val_loss: 1.7914 - val_acc: 0.4188\n",
      "Epoch 7/120\n",
      "22001/22001 [==============================] - 2063s 94ms/step - loss: 1.6767 - acc: 0.4494 - val_loss: 1.6097 - val_acc: 0.4755\n",
      "Epoch 8/120\n",
      "22001/22001 [==============================] - 2097s 95ms/step - loss: 1.5812 - acc: 0.4813 - val_loss: 1.5479 - val_acc: 0.4926\n",
      "Epoch 9/120\n",
      "22001/22001 [==============================] - 2065s 94ms/step - loss: 1.5151 - acc: 0.5062 - val_loss: 1.4871 - val_acc: 0.5185\n",
      "Epoch 10/120\n",
      "22001/22001 [==============================] - 1643s 75ms/step - loss: 1.4573 - acc: 0.5240 - val_loss: 1.5121 - val_acc: 0.5083\n",
      "Epoch 11/120\n",
      "22001/22001 [==============================] - 1642s 75ms/step - loss: 1.4095 - acc: 0.5382 - val_loss: 1.4434 - val_acc: 0.5249\n",
      "Epoch 12/120\n",
      "22001/22001 [==============================] - 1632s 74ms/step - loss: 1.3533 - acc: 0.5532 - val_loss: 1.5692 - val_acc: 0.5090\n",
      "Epoch 13/120\n",
      "22001/22001 [==============================] - 1630s 74ms/step - loss: 1.3880 - acc: 0.5449 - val_loss: 1.3944 - val_acc: 0.5490\n",
      "Epoch 14/120\n",
      "22001/22001 [==============================] - 1632s 74ms/step - loss: 1.3062 - acc: 0.5714 - val_loss: 1.3890 - val_acc: 0.5510\n",
      "Epoch 15/120\n",
      "22001/22001 [==============================] - 1629s 74ms/step - loss: 1.2420 - acc: 0.5874 - val_loss: 1.3337 - val_acc: 0.5686\n",
      "Epoch 16/120\n",
      "22001/22001 [==============================] - 1632s 74ms/step - loss: 1.2150 - acc: 0.5988 - val_loss: 1.3593 - val_acc: 0.5614\n",
      "Epoch 17/120\n",
      "22001/22001 [==============================] - 1630s 74ms/step - loss: 1.2397 - acc: 0.5905 - val_loss: 1.4057 - val_acc: 0.5517\n",
      "Epoch 18/120\n",
      "22001/22001 [==============================] - 1630s 74ms/step - loss: 1.1909 - acc: 0.6067 - val_loss: 1.3383 - val_acc: 0.5701\n",
      "Epoch 19/120\n",
      "22001/22001 [==============================] - 1632s 74ms/step - loss: 1.1425 - acc: 0.6219 - val_loss: 1.3895 - val_acc: 0.5572\n",
      "Epoch 20/120\n",
      "22001/22001 [==============================] - 1629s 74ms/step - loss: 1.1956 - acc: 0.6045 - val_loss: 1.2644 - val_acc: 0.5923\n",
      "Epoch 21/120\n",
      "22001/22001 [==============================] - 1631s 74ms/step - loss: 1.1189 - acc: 0.6292 - val_loss: 1.2843 - val_acc: 0.5867\n",
      "Epoch 22/120\n",
      "22001/22001 [==============================] - 1630s 74ms/step - loss: 1.0825 - acc: 0.6411 - val_loss: 1.2215 - val_acc: 0.6131\n",
      "Epoch 23/120\n",
      "22001/22001 [==============================] - 1632s 74ms/step - loss: 1.0346 - acc: 0.6531 - val_loss: 1.2508 - val_acc: 0.6048\n",
      "Epoch 24/120\n",
      "22001/22001 [==============================] - 1637s 74ms/step - loss: 1.0202 - acc: 0.6599 - val_loss: 1.2542 - val_acc: 0.6002\n",
      "Epoch 25/120\n",
      "22001/22001 [==============================] - 1632s 74ms/step - loss: 1.0384 - acc: 0.6533 - val_loss: 1.2814 - val_acc: 0.6033\n",
      "Epoch 26/120\n",
      "22001/22001 [==============================] - 1645s 75ms/step - loss: 1.0406 - acc: 0.6505 - val_loss: 1.3276 - val_acc: 0.5891\n",
      "Epoch 27/120\n",
      "22001/22001 [==============================] - 1645s 75ms/step - loss: 1.1027 - acc: 0.6340 - val_loss: 1.2734 - val_acc: 0.5962\n",
      "Epoch 28/120\n",
      "22001/22001 [==============================] - 1645s 75ms/step - loss: 1.0038 - acc: 0.6637 - val_loss: 1.2169 - val_acc: 0.6182\n",
      "Epoch 29/120\n",
      "22001/22001 [==============================] - 1644s 75ms/step - loss: 1.0017 - acc: 0.6619 - val_loss: 1.2449 - val_acc: 0.6136\n",
      "Epoch 30/120\n",
      "22001/22001 [==============================] - 1649s 75ms/step - loss: 0.9891 - acc: 0.6692 - val_loss: 1.2188 - val_acc: 0.6215\n",
      "Epoch 31/120\n",
      "22001/22001 [==============================] - 1656s 75ms/step - loss: 0.9168 - acc: 0.6933 - val_loss: 1.2594 - val_acc: 0.6105\n",
      "Epoch 32/120\n",
      "22001/22001 [==============================] - 1633s 74ms/step - loss: 0.9597 - acc: 0.6809 - val_loss: 1.2803 - val_acc: 0.6043\n",
      "Epoch 33/120\n",
      "22001/22001 [==============================] - 1643s 75ms/step - loss: 0.9720 - acc: 0.6734 - val_loss: 1.1733 - val_acc: 0.6338\n",
      "Epoch 34/120\n",
      "22001/22001 [==============================] - 1643s 75ms/step - loss: 0.8890 - acc: 0.6981 - val_loss: 1.2002 - val_acc: 0.6297\n",
      "Epoch 35/120\n",
      "22001/22001 [==============================] - 1644s 75ms/step - loss: 0.8681 - acc: 0.7055 - val_loss: 1.1770 - val_acc: 0.6344\n",
      "Epoch 36/120\n",
      "22001/22001 [==============================] - 1642s 75ms/step - loss: 0.8783 - acc: 0.7037 - val_loss: 1.2046 - val_acc: 0.6302\n",
      "Epoch 37/120\n",
      "22001/22001 [==============================] - 1641s 75ms/step - loss: 0.8987 - acc: 0.6979 - val_loss: 1.2188 - val_acc: 0.6302\n",
      "Epoch 38/120\n",
      "22001/22001 [==============================] - 1645s 75ms/step - loss: 0.8491 - acc: 0.7115 - val_loss: 1.1806 - val_acc: 0.6392\n",
      "Epoch 39/120\n",
      "22001/22001 [==============================] - 1645s 75ms/step - loss: 0.8534 - acc: 0.7135 - val_loss: 1.2372 - val_acc: 0.6306\n",
      "Epoch 40/120\n",
      "22001/22001 [==============================] - 1830s 83ms/step - loss: 0.8305 - acc: 0.7199 - val_loss: 1.2668 - val_acc: 0.6285\n",
      "Epoch 41/120\n",
      "22001/22001 [==============================] - 1864s 85ms/step - loss: 0.8212 - acc: 0.7247 - val_loss: 1.2181 - val_acc: 0.6257\n",
      "Epoch 42/120\n",
      "22001/22001 [==============================] - 1839s 84ms/step - loss: 0.9346 - acc: 0.6867 - val_loss: 1.3362 - val_acc: 0.6014\n",
      "Epoch 43/120\n",
      "22001/22001 [==============================] - 1806s 82ms/step - loss: 0.9892 - acc: 0.6659 - val_loss: 1.2178 - val_acc: 0.6267\n",
      "Epoch 44/120\n",
      "22001/22001 [==============================] - 1848s 84ms/step - loss: 0.8353 - acc: 0.7144 - val_loss: 1.1655 - val_acc: 0.6532\n",
      "Epoch 45/120\n",
      "22001/22001 [==============================] - 1867s 85ms/step - loss: 0.8236 - acc: 0.7183 - val_loss: 1.2459 - val_acc: 0.6146\n",
      "Epoch 46/120\n",
      "22001/22001 [==============================] - 1727s 79ms/step - loss: 0.9367 - acc: 0.6852 - val_loss: 1.2498 - val_acc: 0.6279\n",
      "Epoch 47/120\n",
      "22001/22001 [==============================] - 1634s 74ms/step - loss: 0.8606 - acc: 0.7149 - val_loss: 1.1618 - val_acc: 0.6438\n",
      "Epoch 48/120\n",
      "22001/22001 [==============================] - 1633s 74ms/step - loss: 0.7812 - acc: 0.7349 - val_loss: 1.1834 - val_acc: 0.6466\n",
      "Epoch 49/120\n",
      "22001/22001 [==============================] - 1628s 74ms/step - loss: 0.7906 - acc: 0.7311 - val_loss: 1.1607 - val_acc: 0.6532\n",
      "Epoch 50/120\n",
      "22001/22001 [==============================] - 1636s 74ms/step - loss: 0.7531 - acc: 0.7436 - val_loss: 1.1549 - val_acc: 0.6580\n",
      "Epoch 51/120\n",
      "22001/22001 [==============================] - 1629s 74ms/step - loss: 0.7432 - acc: 0.7476 - val_loss: 1.1555 - val_acc: 0.6554\n",
      "Epoch 52/120\n",
      "22001/22001 [==============================] - 1629s 74ms/step - loss: 0.7710 - acc: 0.7389 - val_loss: 1.1793 - val_acc: 0.6462\n",
      "Epoch 53/120\n",
      "22001/22001 [==============================] - 1628s 74ms/step - loss: 0.7443 - acc: 0.7444 - val_loss: 1.1867 - val_acc: 0.6470\n",
      "Epoch 54/120\n",
      "22001/22001 [==============================] - 1629s 74ms/step - loss: 0.7519 - acc: 0.7428 - val_loss: 1.1877 - val_acc: 0.6481\n",
      "Epoch 55/120\n",
      "22001/22001 [==============================] - 1628s 74ms/step - loss: 0.7404 - acc: 0.7473 - val_loss: 1.1511 - val_acc: 0.6542\n",
      "Epoch 56/120\n",
      "22001/22001 [==============================] - 1629s 74ms/step - loss: 0.7212 - acc: 0.7523 - val_loss: 1.2219 - val_acc: 0.6424\n",
      "Epoch 57/120\n",
      "22001/22001 [==============================] - 1628s 74ms/step - loss: 0.7572 - acc: 0.7427 - val_loss: 1.1975 - val_acc: 0.6541\n",
      "Epoch 58/120\n",
      "22001/22001 [==============================] - 1627s 74ms/step - loss: 0.8195 - acc: 0.7234 - val_loss: 1.1386 - val_acc: 0.6538\n",
      "Epoch 59/120\n",
      "22001/22001 [==============================] - 1628s 74ms/step - loss: 0.7337 - acc: 0.7472 - val_loss: 1.1189 - val_acc: 0.6657\n",
      "Epoch 60/120\n",
      "22001/22001 [==============================] - 1627s 74ms/step - loss: 0.7085 - acc: 0.7569 - val_loss: 1.1584 - val_acc: 0.6519\n",
      "Epoch 61/120\n",
      "22001/22001 [==============================] - 1626s 74ms/step - loss: 0.7055 - acc: 0.7597 - val_loss: 1.1444 - val_acc: 0.6597\n",
      "Epoch 62/120\n",
      "22001/22001 [==============================] - 1627s 74ms/step - loss: 0.7048 - acc: 0.7630 - val_loss: 1.1408 - val_acc: 0.6652\n",
      "Epoch 63/120\n",
      "22001/22001 [==============================] - 1626s 74ms/step - loss: 0.7145 - acc: 0.7558 - val_loss: 1.1754 - val_acc: 0.6599\n",
      "Epoch 64/120\n",
      "22001/22001 [==============================] - 1628s 74ms/step - loss: 0.7042 - acc: 0.7566 - val_loss: 1.1709 - val_acc: 0.6572\n",
      "Epoch 65/120\n",
      "22001/22001 [==============================] - 1629s 74ms/step - loss: 0.7085 - acc: 0.7597 - val_loss: 1.1661 - val_acc: 0.6574\n",
      "Epoch 66/120\n",
      "22001/22001 [==============================] - 1626s 74ms/step - loss: 0.7996 - acc: 0.7281 - val_loss: 1.1886 - val_acc: 0.6571\n",
      "Epoch 67/120\n",
      "22001/22001 [==============================] - 1627s 74ms/step - loss: 0.7004 - acc: 0.7623 - val_loss: 1.1623 - val_acc: 0.6633\n",
      "Epoch 68/120\n",
      "22001/22001 [==============================] - 1630s 74ms/step - loss: 0.6886 - acc: 0.7679 - val_loss: 1.3025 - val_acc: 0.6370\n",
      "Epoch 69/120\n",
      "22001/22001 [==============================] - 1646s 75ms/step - loss: 0.8164 - acc: 0.7283 - val_loss: 1.1915 - val_acc: 0.6568\n",
      "Epoch 70/120\n",
      "22001/22001 [==============================] - 1656s 75ms/step - loss: 0.7197 - acc: 0.7581 - val_loss: 1.1948 - val_acc: 0.6589\n",
      "Epoch 71/120\n",
      "22001/22001 [==============================] - 1661s 75ms/step - loss: 0.6720 - acc: 0.7701 - val_loss: 1.1733 - val_acc: 0.6556\n",
      "Epoch 72/120\n",
      "22001/22001 [==============================] - 1628s 74ms/step - loss: 0.6844 - acc: 0.7661 - val_loss: 1.1991 - val_acc: 0.6534\n",
      "Epoch 73/120\n",
      "22001/22001 [==============================] - 1626s 74ms/step - loss: 0.6704 - acc: 0.7708 - val_loss: 1.2096 - val_acc: 0.6677\n",
      "Epoch 74/120\n",
      "22001/22001 [==============================] - 1621s 74ms/step - loss: 0.7055 - acc: 0.7605 - val_loss: 1.1794 - val_acc: 0.6617\n",
      "Epoch 75/120\n",
      "22001/22001 [==============================] - 1625s 74ms/step - loss: 0.7060 - acc: 0.7602 - val_loss: 1.2561 - val_acc: 0.6490\n",
      "Epoch 76/120\n",
      "22001/22001 [==============================] - 1626s 74ms/step - loss: 0.8210 - acc: 0.7234 - val_loss: 1.2303 - val_acc: 0.6476\n",
      "Epoch 77/120\n",
      "22001/22001 [==============================] - 1629s 74ms/step - loss: 0.6728 - acc: 0.7702 - val_loss: 1.2154 - val_acc: 0.6608\n",
      "Epoch 78/120\n",
      "22001/22001 [==============================] - 1630s 74ms/step - loss: 0.6763 - acc: 0.7696 - val_loss: 1.1707 - val_acc: 0.6618\n",
      "Epoch 79/120\n",
      "22001/22001 [==============================] - 1685s 77ms/step - loss: 0.6638 - acc: 0.7746 - val_loss: 1.1900 - val_acc: 0.6625\n",
      "Epoch 80/120\n",
      "22001/22001 [==============================] - 1624s 74ms/step - loss: 0.6512 - acc: 0.7730 - val_loss: 1.1545 - val_acc: 0.6639\n",
      "Epoch 81/120\n",
      "22001/22001 [==============================] - 1649s 75ms/step - loss: 0.6343 - acc: 0.7822 - val_loss: 1.2161 - val_acc: 0.6541\n",
      "Epoch 82/120\n",
      "22001/22001 [==============================] - 1626s 74ms/step - loss: 0.8435 - acc: 0.7173 - val_loss: 1.1922 - val_acc: 0.6631\n",
      "Epoch 83/120\n",
      "22001/22001 [==============================] - 1645s 75ms/step - loss: 0.6644 - acc: 0.7716 - val_loss: 1.1961 - val_acc: 0.6633\n",
      "Epoch 84/120\n",
      "22001/22001 [==============================] - 1658s 75ms/step - loss: 0.6440 - acc: 0.7801 - val_loss: 1.2091 - val_acc: 0.6627\n",
      "Epoch 85/120\n",
      "22001/22001 [==============================] - 1652s 75ms/step - loss: 0.6892 - acc: 0.7643 - val_loss: 1.1883 - val_acc: 0.6600\n",
      "Epoch 86/120\n",
      "22001/22001 [==============================] - 1651s 75ms/step - loss: 0.6406 - acc: 0.7793 - val_loss: 1.1886 - val_acc: 0.6599\n",
      "Epoch 87/120\n",
      "22001/22001 [==============================] - 1626s 74ms/step - loss: 0.6388 - acc: 0.7820 - val_loss: 1.2994 - val_acc: 0.6400\n",
      "Epoch 88/120\n",
      "22001/22001 [==============================] - 1626s 74ms/step - loss: 0.8273 - acc: 0.7236 - val_loss: 1.1518 - val_acc: 0.6650\n",
      "Epoch 89/120\n",
      "22001/22001 [==============================] - 1628s 74ms/step - loss: 0.6381 - acc: 0.7823 - val_loss: 1.2011 - val_acc: 0.6589\n",
      "Epoch 90/120\n",
      "22001/22001 [==============================] - 1630s 74ms/step - loss: 0.6364 - acc: 0.7829 - val_loss: 1.1978 - val_acc: 0.6659\n",
      "Epoch 91/120\n",
      "22001/22001 [==============================] - 1619s 74ms/step - loss: 0.6222 - acc: 0.7853 - val_loss: 1.1723 - val_acc: 0.6691\n",
      "Epoch 92/120\n",
      "22001/22001 [==============================] - 1615s 73ms/step - loss: 0.6149 - acc: 0.7884 - val_loss: 1.2139 - val_acc: 0.6636\n",
      "Epoch 93/120\n",
      "22001/22001 [==============================] - 1622s 74ms/step - loss: 0.7686 - acc: 0.7465 - val_loss: 1.2231 - val_acc: 0.6564\n",
      "Epoch 94/120\n",
      "22001/22001 [==============================] - 1623s 74ms/step - loss: 0.6436 - acc: 0.7809 - val_loss: 1.1955 - val_acc: 0.6629\n",
      "Epoch 95/120\n",
      "22001/22001 [==============================] - 1622s 74ms/step - loss: 0.6543 - acc: 0.7786 - val_loss: 1.2026 - val_acc: 0.6621\n",
      "Epoch 96/120\n",
      "22001/22001 [==============================] - 1620s 74ms/step - loss: 0.7086 - acc: 0.7594 - val_loss: 1.2316 - val_acc: 0.6604\n",
      "Epoch 97/120\n",
      "22001/22001 [==============================] - 1624s 74ms/step - loss: 0.6939 - acc: 0.7671 - val_loss: 1.3577 - val_acc: 0.6283\n",
      "Epoch 98/120\n",
      "22001/22001 [==============================] - 1624s 74ms/step - loss: 0.9570 - acc: 0.6841 - val_loss: 1.2427 - val_acc: 0.6489\n",
      "Epoch 99/120\n",
      "22001/22001 [==============================] - 1623s 74ms/step - loss: 0.6884 - acc: 0.7662 - val_loss: 1.1886 - val_acc: 0.6642\n",
      "Epoch 100/120\n",
      "22001/22001 [==============================] - 1622s 74ms/step - loss: 0.7597 - acc: 0.7441 - val_loss: 1.1828 - val_acc: 0.6606\n",
      "Epoch 101/120\n",
      "22001/22001 [==============================] - 1625s 74ms/step - loss: 0.6257 - acc: 0.7855 - val_loss: 1.2138 - val_acc: 0.6656\n",
      "Epoch 102/120\n",
      "22001/22001 [==============================] - 1622s 74ms/step - loss: 0.6184 - acc: 0.7894 - val_loss: 1.2469 - val_acc: 0.6600\n",
      "Epoch 103/120\n",
      "22001/22001 [==============================] - 1622s 74ms/step - loss: 0.6845 - acc: 0.7672 - val_loss: 1.1751 - val_acc: 0.6741\n",
      "Epoch 104/120\n",
      "22001/22001 [==============================] - 1620s 74ms/step - loss: 0.5947 - acc: 0.7969 - val_loss: 1.2536 - val_acc: 0.6550\n",
      "Epoch 105/120\n",
      "22001/22001 [==============================] - 1623s 74ms/step - loss: 0.6990 - acc: 0.7637 - val_loss: 1.1848 - val_acc: 0.6685\n",
      "Epoch 106/120\n",
      "22001/22001 [==============================] - 1620s 74ms/step - loss: 0.6083 - acc: 0.7892 - val_loss: 1.1840 - val_acc: 0.6669\n",
      "Epoch 107/120\n",
      "22001/22001 [==============================] - 1624s 74ms/step - loss: 0.6591 - acc: 0.7754 - val_loss: 1.2220 - val_acc: 0.6705\n",
      "Epoch 108/120\n",
      "22001/22001 [==============================] - 1619s 74ms/step - loss: 0.5922 - acc: 0.7969 - val_loss: 1.1976 - val_acc: 0.6701\n",
      "Epoch 109/120\n",
      "22001/22001 [==============================] - 1650s 75ms/step - loss: 0.5950 - acc: 0.7937 - val_loss: 1.2271 - val_acc: 0.6672\n",
      "Epoch 110/120\n",
      "22001/22001 [==============================] - 1715s 78ms/step - loss: 0.5929 - acc: 0.7977 - val_loss: 1.3211 - val_acc: 0.6505\n",
      "Epoch 111/120\n",
      "22001/22001 [==============================] - 1939s 88ms/step - loss: 0.7359 - acc: 0.7552 - val_loss: 1.2397 - val_acc: 0.6643\n",
      "Epoch 112/120\n",
      "22001/22001 [==============================] - 1882s 86ms/step - loss: 0.6031 - acc: 0.7910 - val_loss: 1.2105 - val_acc: 0.6716\n",
      "Epoch 113/120\n",
      "22001/22001 [==============================] - 1659s 75ms/step - loss: 0.6953 - acc: 0.7641 - val_loss: 1.3186 - val_acc: 0.6503\n",
      "Epoch 114/120\n",
      "22001/22001 [==============================] - 1642s 75ms/step - loss: 0.6663 - acc: 0.7741 - val_loss: 1.2197 - val_acc: 0.6636\n",
      "Epoch 115/120\n",
      "22001/22001 [==============================] - 1787s 81ms/step - loss: 0.5996 - acc: 0.7943 - val_loss: 1.1850 - val_acc: 0.6745\n",
      "Epoch 116/120\n",
      "22001/22001 [==============================] - 1704s 77ms/step - loss: 0.6030 - acc: 0.7931 - val_loss: 1.2080 - val_acc: 0.6673\n",
      "Epoch 117/120\n",
      "22001/22001 [==============================] - 1685s 77ms/step - loss: 0.5780 - acc: 0.8003 - val_loss: 1.2524 - val_acc: 0.6641\n",
      "Epoch 118/120\n",
      "22001/22001 [==============================] - 1916s 87ms/step - loss: 0.5866 - acc: 0.7965 - val_loss: 1.2344 - val_acc: 0.6664\n",
      "Epoch 119/120\n",
      "22001/22001 [==============================] - 1687s 77ms/step - loss: 0.5819 - acc: 0.7995 - val_loss: 1.2915 - val_acc: 0.6614\n",
      "Epoch 120/120\n",
      "22001/22001 [==============================] - 1689s 77ms/step - loss: 0.5825 - acc: 0.8017 - val_loss: 1.2247 - val_acc: 0.6682\n"
     ]
    }
   ],
   "source": [
    "# 训练模型\n",
    "callbacks = [keras.callbacks.TensorBoard(log_dir='my_log_dir', histogram_freq=1)]\n",
    "\n",
    "trained_model = model.fit(Xtrain, Ytrain, \n",
    "                          epochs =epochs, \n",
    "                          shuffle = True, \n",
    "                          batch_size = batch_size,\n",
    "                          validation_data=(Xvalid, Yvalid), \n",
    "                          callbacks=callbacks)\n",
    "                                        ##迭代次数        "
   ]
  },
  {
   "cell_type": "code",
   "execution_count": 6,
   "metadata": {},
   "outputs": [],
   "source": [
    "# 训练过程可视化\n",
    "def overfitting_plot(history, name):\n",
    "    acc = history.history['acc']\n",
    "    val_acc = history.history['val_acc']\n",
    "    loss = history.history['loss']\n",
    "    val_loss = history.history['val_loss']\n",
    "    \n",
    "    epochs = range(1, len(acc) + 1)\n",
    "    \n",
    "    plt.plot(epochs, acc, 'bo', label='Training acc')\n",
    "    plt.plot(epochs, val_acc, 'b', label='Validation acc')\n",
    "    plt.title('Training and validation accuracy')\n",
    "    plt.legend(loc='best')\n",
    "    plt.savefig('acc_'+name+'.png')\n",
    "    \n",
    "    plt.figure()\n",
    "    plt.plot(epochs, loss, 'bo', label='Training loss')\n",
    "    plt.plot(epochs, val_loss, 'b', label='Validation loss')\n",
    "    plt.title('Training and validation loss')\n",
    "    plt.legend(loc='best')\n",
    "    plt.savefig('loss_'+name+'.png')"
   ]
  },
  {
   "cell_type": "code",
   "execution_count": 7,
   "metadata": {},
   "outputs": [
    {
     "data": {
      "image/png": "[encoded data removed]",
      "text/plain": [
       "<Figure size 432x288 with 1 Axes>"
      ]
     },
     "metadata": {
      "needs_background": "light"
     },
     "output_type": "display_data"
    },
    {
     "data": {
      "image/png": "[encoded data removed]",
      "text/plain": [
       "<Figure size 432x288 with 1 Axes>"
      ]
     },
     "metadata": {
      "needs_background": "light"
     },
     "output_type": "display_data"
    }
   ],
   "source": [
    "overfitting_plot(trained_model, '')"
   ]
  },
  {
   "cell_type": "code",
   "execution_count": 17,
   "metadata": {},
   "outputs": [],
   "source": [
    "# 保存模型\n",
    "model.save('modelC_192.h5')"
   ]
  },
  {
   "cell_type": "markdown",
   "metadata": {},
   "source": [
    "### 4 模型评估"
   ]
  },
  {
   "cell_type": "code",
   "execution_count": 8,
   "metadata": {},
   "outputs": [
    {
     "name": "stdout",
     "output_type": "stream",
     "text": [
      "9430/9430 [==============================] - 142s 15ms/step\n",
      "Test score: 1.2246970427251191\n",
      "Test accuracy: 0.668186638438689\n"
     ]
    }
   ],
   "source": [
    "# 测试模型\n",
    "score = model.evaluate(Xvalid, Yvalid, verbose=1)  #evalute()展示模型在验证数据上的效果\n",
    "print('Test score:', score[0])\n",
    "print('Test accuracy:', score[1])"
   ]
  },
  {
   "cell_type": "code",
   "execution_count": 10,
   "metadata": {},
   "outputs": [],
   "source": [
    "num_classes = 16\n",
    "y_pred = model.predict(Xvalid)\n",
    "# Convert one-hot to index\n",
    "y_pred = np.argmax(y_pred, axis=1)\n",
    "y_pred = to_categorical(y_pred, num_classes)"
   ]
  },
  {
   "cell_type": "code",
   "execution_count": 11,
   "metadata": {
    "scrolled": false
   },
   "outputs": [
    {
     "name": "stdout",
     "output_type": "stream",
     "text": [
      "              precision    recall  f1-score   support\n",
      "\n",
      "           0       0.57      0.52      0.54       527\n",
      "           1       0.68      0.79      0.73       663\n",
      "           2       0.74      0.71      0.72       498\n",
      "           3       0.56      0.49      0.52       600\n",
      "           4       0.75      0.71      0.73       528\n",
      "           5       0.69      0.60      0.64       719\n",
      "           6       0.61      0.59      0.60       652\n",
      "           7       0.75      0.61      0.68       576\n",
      "           8       0.76      0.79      0.77       630\n",
      "           9       0.58      0.58      0.58       586\n",
      "          10       0.55      0.78      0.64       663\n",
      "          11       0.70      0.75      0.72       623\n",
      "          12       0.82      0.71      0.76       487\n",
      "          13       0.71      0.77      0.74       586\n",
      "          14       0.62      0.63      0.63       594\n",
      "          15       0.73      0.65      0.69       498\n",
      "\n",
      "   micro avg       0.67      0.67      0.67      9430\n",
      "   macro avg       0.68      0.67      0.67      9430\n",
      "weighted avg       0.67      0.67      0.67      9430\n",
      " samples avg       0.67      0.67      0.67      9430\n",
      "\n"
     ]
    }
   ],
   "source": [
    "from sklearn.metrics import classification_report\n",
    "print(classification_report(Yvalid, y_pred))\n",
    "##主要看f1值指标"
   ]
  },
  {
   "cell_type": "code",
   "execution_count": 16,
   "metadata": {},
   "outputs": [
    {
     "data": {
      "image/png": "[encoded data removed]",
      "text/plain": [
       "<Figure size 432x288 with 2 Axes>"
      ]
     },
     "metadata": {
      "needs_background": "light"
     },
     "output_type": "display_data"
    }
   ],
   "source": [
    "# 多分类混淆矩阵图\n",
    "from sklearn.metrics import confusion_matrix\n",
    "def plot_confusion_matrix(cm, classes,\n",
    "                          normalize=False,\n",
    "                          title='Confusion matrix',\n",
    "                          cmap=plt.cm.Blues):\n",
    "    \"\"\"\n",
    "    This function prints and plots the confusion matrix.\n",
    "    Normalization can be applied by setting `normalize=True`.\n",
    "    \"\"\"\n",
    "    plt.imshow(cm, interpolation='nearest', cmap=cmap)\n",
    "    plt.title(title)\n",
    "    plt.colorbar()\n",
    "    tick_marks = np.arange(len(classes))\n",
    "    plt.xticks(tick_marks, classes, rotation=45)\n",
    "    plt.yticks(tick_marks, classes)\n",
    "\n",
    "    if normalize:\n",
    "        cm = cm.astype('float') / cm.sum(axis=1)[:, np.newaxis]\n",
    "\n",
    "    thresh = cm.max() / 2.\n",
    "    for i, j in itertools.product(range(cm.shape[0]), range(cm.shape[1])):\n",
    "        plt.text(j, i, cm[i, j],\n",
    "                 horizontalalignment=\"center\",\n",
    "                 color=\"white\" if cm[i, j] > thresh else \"black\")\n",
    "\n",
    "    plt.tight_layout()\n",
    "    plt.ylabel('True label')\n",
    "    plt.xlabel('Predicted label')\n",
    "\n",
    "# Predict the values from the validation dataset\n",
    "Y_pred = model.predict(Xvalid)\n",
    "# Convert predictions classes to one hot vectors \n",
    "Y_pred_classes = np.argmax(Y_pred,axis = 1) \n",
    "# Convert validation observations to one hot vectors\n",
    "Y_true = np.argmax(Yvalid,axis = 1) \n",
    "# compute the confusion matrix\n",
    "confusion_mtx = confusion_matrix(Y_true, Y_pred_classes) \n",
    "# plot the confusion matrix\n",
    "plot_confusion_matrix(confusion_mtx, classes = range(16)) ###########################"
   ]
  },
  {
   "cell_type": "markdown",
   "metadata": {},
   "source": [
    "#### 单张图片预测"
   ]
  },
  {
   "cell_type": "code",
   "execution_count": 12,
   "metadata": {},
   "outputs": [
    {
     "name": "stdout",
     "output_type": "stream",
     "text": [
      "识别为：\n",
      "[4]\n"
     ]
    },
    {
     "data": {
      "text/plain": [
       "-1"
      ]
     },
     "execution_count": 12,
     "metadata": {},
     "output_type": "execute_result"
    }
   ],
   "source": [
    "# 模型测试\n",
    "import cv2 as cv\n",
    "import numpy as np\n",
    "from keras.models import load_model\n",
    "\n",
    "model = load_model('model0903.h5')\n",
    "image_path = './training/_0paper/paper (109).jpg'\n",
    "# image_path = 'C:\\\\Users\\\\lenovo\\\\Desktop\\\\test\\\\qwe.jpg'\n",
    "img = cv.cvtColor(cv.imread(image_path),cv.COLOR_BGR2RGB)\n",
    "img = cv.resize(img, (128,128))\n",
    "\n",
    " #需要用reshape定义出例子的个数，图片的 通道数，图片的长与宽。具体的参加keras文档\n",
    "image = (img.reshape(1,128, 128, 3)).astype('int32')/255 \n",
    "predict = model.predict_classes(image)\n",
    "print ('识别为：')\n",
    "print (predict)\n",
    "\n",
    "cv.imshow(\"Image1\", img)\n",
    "cv.waitKey(0)\n",
    "\n",
    "# 时间复杂度较高 待优化\n",
    "# 颜色通道 黄绿？？？\n",
    "# 准确率低"
   ]
  }
 ],
 "metadata": {
  "kernelspec": {
   "display_name": "Python 3",
   "language": "python",
   "name": "python3"
  },
  "language_info": {
   "codemirror_mode": {
    "name": "ipython",
    "version": 3
   },
   "file_extension": ".py",
   "mimetype": "text/x-python",
   "name": "python",
   "nbconvert_exporter": "python",
   "pygments_lexer": "ipython3",
   "version": "3.7.3"
  }
 },
 "nbformat": 4,
 "nbformat_minor": 2
}
